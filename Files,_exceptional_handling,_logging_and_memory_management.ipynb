{
  "nbformat": 4,
  "nbformat_minor": 0,
  "metadata": {
    "colab": {
      "provenance": []
    },
    "kernelspec": {
      "name": "python3",
      "display_name": "Python 3"
    },
    "language_info": {
      "name": "python"
    }
  },
  "cells": [
    {
      "cell_type": "markdown",
      "source": [
        "1. What is the difference between interpreted and compiled languages?\n",
        "- Interpreted languages execute code line by line at runtime\n",
        "\n",
        " example: Python, JavaScript\n",
        "- Compiled languages translate the entire code into machine code before execution\n",
        "\n",
        " example: C, C++"
      ],
      "metadata": {
        "id": "I1JphSTN5NhQ"
      }
    },
    {
      "cell_type": "markdown",
      "source": [
        "2. What is exception handling in Python?\n",
        "- A mechanism to handle runtime errors using try, except, finally, and else blocks.\n"
      ],
      "metadata": {
        "id": "D2qyljhF5lzG"
      }
    },
    {
      "cell_type": "markdown",
      "source": [
        "3. What is the purpose of the finally block in exception handling?\n",
        "- Ensures that certain code executes regardless of whether an exception occurs.\n"
      ],
      "metadata": {
        "id": "xtcy7mNE53Aj"
      }
    },
    {
      "cell_type": "markdown",
      "source": [
        "4. What is logging in Python?\n",
        "- The logging module helps track events in a program, making debugging easier.\n"
      ],
      "metadata": {
        "id": "oQQToSAv6AYU"
      }
    },
    {
      "cell_type": "markdown",
      "source": [
        "5. What is the significance of the __del__ method in Python?\n",
        "- A destructor method called when an object is deleted to release resources."
      ],
      "metadata": {
        "id": "A6Mui1fk6HWQ"
      }
    },
    {
      "cell_type": "markdown",
      "source": [
        "6. What is the difference between import and from ... import in Python?\n",
        "- import module_name imports the whole module.\n",
        "- from module_name import function_name imports specific functions."
      ],
      "metadata": {
        "id": "1IPBc4zh6QfZ"
      }
    },
    {
      "cell_type": "markdown",
      "source": [
        "7.  How can you handle multiple exceptions in Python?\n",
        "- Use multiple except blocks or catch multiple exceptions in a single block:\n",
        "  \n",
        "      try:\n",
        "      ...\n",
        "      except (TypeError, ValueError) as e:\n",
        "      print(e)\n"
      ],
      "metadata": {
        "id": "Kmlhg1YI6ZGS"
      }
    },
    {
      "cell_type": "markdown",
      "source": [
        "8. What is the purpose of the with statement when handling files in Python?\n",
        " - Ensures files are properly closed after being used:\n",
        "\n",
        "         with open(\"file.txt\", \"r\") as f:\n",
        "         data = f.read()\n"
      ],
      "metadata": {
        "id": "Ua5IzWZH6uVf"
      }
    },
    {
      "cell_type": "markdown",
      "source": [
        "9. What is the difference between multithreading and multiprocessing?\n",
        "- Multithreading: Multiple threads share the same memory space.\n",
        "- Multiprocessing: Multiple processes run independently, using separate memory.\n"
      ],
      "metadata": {
        "id": "KK7ougLn64kr"
      }
    },
    {
      "cell_type": "markdown",
      "source": [
        "10. What are the advantages of using logging in a program?\n",
        "- Helps debug and monitor applications\n",
        "-  tracks errors\n",
        "-  and maintains logs for analysis."
      ],
      "metadata": {
        "id": "cySM4D-I7HAA"
      }
    },
    {
      "cell_type": "markdown",
      "source": [
        "11. What is memory management in Python?\n",
        " - Handled via garbage collection, reference counting, and dynamic memory allocation."
      ],
      "metadata": {
        "id": "6v1pu8g57QxM"
      }
    },
    {
      "cell_type": "markdown",
      "source": [
        "12. What are the basic steps involved in exception handling in Python?\n",
        "- Use try block, catch exceptions with except, handle them, and optionally use finally."
      ],
      "metadata": {
        "id": "CcmtLkIb7XW7"
      }
    },
    {
      "cell_type": "markdown",
      "source": [
        "13. Why is memory management important in Python?\n",
        "- Prevents memory leaks, optimizes performance, and ensures efficient resource usage."
      ],
      "metadata": {
        "id": "VSBkP99E7foE"
      }
    },
    {
      "cell_type": "markdown",
      "source": [
        "14. What is the role of try and except in exception handling?\n",
        "- try defines the block where an exception might occur.\n",
        "- except handles specific exceptions if they arise.\n"
      ],
      "metadata": {
        "id": "XDSYfo-h7k4Q"
      }
    },
    {
      "cell_type": "markdown",
      "source": [
        "15. How does Python's garbage collection system work?\n",
        "- Uses reference counting and cyclic garbage collection to free unused objects.\n"
      ],
      "metadata": {
        "id": "OgHPP31u7rVy"
      }
    },
    {
      "cell_type": "markdown",
      "source": [
        "16. What is the purpose of the else block in exception handling?\n",
        "- Runs if no exception occurs in the try block."
      ],
      "metadata": {
        "id": "OgbrC7tI7wHv"
      }
    },
    {
      "cell_type": "markdown",
      "source": [
        "17. What are the common logging levels in Python?\n",
        "- DEBUG, INFO, WARNING, ERROR, CRITICAL.\n"
      ],
      "metadata": {
        "id": "g5Km0bs870xi"
      }
    },
    {
      "cell_type": "markdown",
      "source": [
        "18. What is the difference between os.fork() and multiprocessing in Python?\n",
        "- os.fork() creates a child process in Unix-based systems.\n",
        "- multiprocessing provides a cross-platform approach to process creation."
      ],
      "metadata": {
        "id": "S77Dj4SD783N"
      }
    },
    {
      "cell_type": "markdown",
      "source": [
        "19. What is the importance of closing a file in Python?\n",
        "- Prevents memory leaks and data corruption.\n"
      ],
      "metadata": {
        "id": "L05NvQj78Fat"
      }
    },
    {
      "cell_type": "markdown",
      "source": [
        "20. What is the difference between file.read() and file.readline() in Python?  \n",
        "-  file.read() reads the entire file.\n",
        "- file.readline() reads one line at a time."
      ],
      "metadata": {
        "id": "hscyvOLN8NAn"
      }
    },
    {
      "cell_type": "markdown",
      "source": [
        "21. What is the logging module in Python used for?\n",
        "- Provides a flexible framework for tracking program execution.\n",
        "\n"
      ],
      "metadata": {
        "id": "aww4OxG48csM"
      }
    },
    {
      "cell_type": "markdown",
      "source": [
        "22. What is the os module in Python used for in file handling?\n",
        "- Allows interaction with the operating system for file operations like creating, deleting, and renaming files.\n"
      ],
      "metadata": {
        "id": "cyUa6Ccy8jl0"
      }
    },
    {
      "cell_type": "markdown",
      "source": [
        "23. What are the challenges associated with memory management in Python?\n",
        "- Circular references, high memory usage, and fragmentation.\n"
      ],
      "metadata": {
        "id": "QTiSkufY8sGi"
      }
    },
    {
      "cell_type": "markdown",
      "source": [
        "24. How do you raise an exception manually in Python?\n",
        "- Use raise statement:\n",
        "      raise ValueError(\"Invalid input\")\n"
      ],
      "metadata": {
        "id": "XsF5cy3v8-KB"
      }
    },
    {
      "cell_type": "markdown",
      "source": [
        "25. Why is it important to use multithreading in certain applications?\n",
        "- Improves performance for I/O-bound tasks like web scraping, file handling, and network operations."
      ],
      "metadata": {
        "id": "mTudknxf9Jpl"
      }
    },
    {
      "cell_type": "code",
      "source": [
        "#1 How can you open a file for writing in Python and write a string to it?\n",
        "with open(\"example.txt\", \"w\") as file:\n",
        "    file.write(\"Hello, World!\")\n"
      ],
      "metadata": {
        "id": "ujehCSQN9WBe"
      },
      "execution_count": 2,
      "outputs": []
    },
    {
      "cell_type": "code",
      "source": [
        "#2 Write a Python program to read the contents of a file and print each line.\n",
        "with open(\"example.txt\", \"r\") as file:\n",
        "    for line in file:\n",
        "        print(line.strip())\n",
        "\n"
      ],
      "metadata": {
        "colab": {
          "base_uri": "https://localhost:8080/"
        },
        "id": "W0WtyMrL939V",
        "outputId": "e20a7bc6-6ce9-44da-c140-2bdac083baff"
      },
      "execution_count": 3,
      "outputs": [
        {
          "output_type": "stream",
          "name": "stdout",
          "text": [
            "Hello, World!\n"
          ]
        }
      ]
    },
    {
      "cell_type": "code",
      "source": [
        "#3 F How would you handle a case where the file doesn't exist while trying to open it for reading?\n",
        "try:\n",
        "    with open(\"nonexistent.txt\", \"r\") as file:\n",
        "        content = file.read()\n",
        "except FileNotFoundError:\n",
        "    print(\"File not found!\")\n"
      ],
      "metadata": {
        "colab": {
          "base_uri": "https://localhost:8080/"
        },
        "id": "z6TGKGIY-PUH",
        "outputId": "bb9db194-35a6-46b8-e06e-03c7692d4a65"
      },
      "execution_count": 4,
      "outputs": [
        {
          "output_type": "stream",
          "name": "stdout",
          "text": [
            "File not found!\n"
          ]
        }
      ]
    },
    {
      "cell_type": "code",
      "source": [
        "#4 Write a Python script that reads from one file and writes its content to another file.\n",
        "import os\n",
        "\n",
        "source_file = \"source.txt\"\n",
        "destination_file = \"destination.txt\"\n",
        "\n",
        "# Check if source file exists, if not, create it with sample content\n",
        "if not os.path.exists(source_file):\n",
        "    with open(source_file, \"w\") as file:\n",
        "        file.write(\"This is a test file.\\nContent to be copied.\")\n",
        "\n",
        "# Now, read from source and write to destination\n",
        "try:\n",
        "    with open(source_file, \"r\") as src, open(destination_file, \"w\") as dest:\n",
        "        dest.write(src.read())\n",
        "    print(f\"Content copied from {source_file} to {destination_file} successfully.\")\n",
        "except FileNotFoundError:\n",
        "    print(f\"Error: '{source_file}' not found!\")\n",
        "\n",
        "\n"
      ],
      "metadata": {
        "colab": {
          "base_uri": "https://localhost:8080/"
        },
        "id": "4KF31V5q-Zoj",
        "outputId": "bb13d98d-41e9-463d-e0ec-9d6ba16a8ecb"
      },
      "execution_count": 7,
      "outputs": [
        {
          "output_type": "stream",
          "name": "stdout",
          "text": [
            "Content copied from source.txt to destination.txt successfully.\n"
          ]
        }
      ]
    },
    {
      "cell_type": "code",
      "source": [
        "#5 How would you catch and handle division by zero error in Python.\n",
        "try:\n",
        "    result = 10 / 0\n",
        "except ZeroDivisionError:\n",
        "    print(\"Cannot divide by zero!\")\n"
      ],
      "metadata": {
        "colab": {
          "base_uri": "https://localhost:8080/"
        },
        "id": "UAXARSwK_AEZ",
        "outputId": "99915ba6-3f1e-4767-d568-0650b14b864b"
      },
      "execution_count": 8,
      "outputs": [
        {
          "output_type": "stream",
          "name": "stdout",
          "text": [
            "Cannot divide by zero!\n"
          ]
        }
      ]
    },
    {
      "cell_type": "code",
      "source": [
        "#6 Write a Python program that logs an error message to a log file when a division by zero exception occurs.\n",
        "import logging\n",
        "\n",
        "logging.basicConfig(filename=\"errors.log\", level=logging.ERROR)\n",
        "\n",
        "try:\n",
        "    result = 10 / 0\n",
        "except ZeroDivisionError as e:\n",
        "    logging.error(f\"Error: {e}\")\n"
      ],
      "metadata": {
        "colab": {
          "base_uri": "https://localhost:8080/"
        },
        "id": "QgsFSSAe_Kdg",
        "outputId": "94a894c1-205f-454d-d4bc-3ee2e74496db"
      },
      "execution_count": 9,
      "outputs": [
        {
          "output_type": "stream",
          "name": "stderr",
          "text": [
            "ERROR:root:Error: division by zero\n"
          ]
        }
      ]
    },
    {
      "cell_type": "code",
      "source": [
        "#7 How do you log information at different levels (INFO, ERROR, WARNING) in Python using the logging module?\n",
        "import logging\n",
        "\n",
        "logging.basicConfig(level=logging.DEBUG)\n",
        "\n",
        "logging.info(\"This is an info message\")\n",
        "logging.warning(\"This is a warning message\")\n",
        "logging.error(\"This is an error message\")\n",
        "\n"
      ],
      "metadata": {
        "colab": {
          "base_uri": "https://localhost:8080/"
        },
        "id": "CfEQ4V9a_TY8",
        "outputId": "250f5170-e94a-439f-cd53-b3b304b1c683"
      },
      "execution_count": 10,
      "outputs": [
        {
          "output_type": "stream",
          "name": "stderr",
          "text": [
            "WARNING:root:This is a warning message\n",
            "ERROR:root:This is an error message\n"
          ]
        }
      ]
    },
    {
      "cell_type": "code",
      "source": [
        "#8 Write a program to handle a file opening error using exception handling.\n",
        "try:\n",
        "    with open(\"nonexistent.txt\", \"r\") as file:\n",
        "        print(file.read())\n",
        "except FileNotFoundError:\n",
        "    print(\"Error: File not found!\")\n"
      ],
      "metadata": {
        "colab": {
          "base_uri": "https://localhost:8080/"
        },
        "id": "bNtX5xtn_c77",
        "outputId": "0782f8cf-7883-4261-e72e-7a42e68e19e1"
      },
      "execution_count": 11,
      "outputs": [
        {
          "output_type": "stream",
          "name": "stdout",
          "text": [
            "Error: File not found!\n"
          ]
        }
      ]
    },
    {
      "cell_type": "code",
      "source": [
        "#9 How can you read a file line by line and store its content in a list in Python?\n",
        "with open(\"example.txt\", \"r\") as file:\n",
        "    lines = file.readlines()\n",
        "print(lines)\n"
      ],
      "metadata": {
        "colab": {
          "base_uri": "https://localhost:8080/"
        },
        "id": "9mK5IMcD_lGK",
        "outputId": "d805977f-e494-4014-bf01-8e9e8c724efb"
      },
      "execution_count": 12,
      "outputs": [
        {
          "output_type": "stream",
          "name": "stdout",
          "text": [
            "['Hello, World!']\n"
          ]
        }
      ]
    },
    {
      "cell_type": "code",
      "source": [
        "#10 How can you append data to an existing file in Python.\n",
        "with open(\"example.txt\", \"a\") as file:\n",
        "    file.write(\"\\nAppended line\")\n"
      ],
      "metadata": {
        "id": "scf6uiH4_u2x"
      },
      "execution_count": 13,
      "outputs": []
    },
    {
      "cell_type": "code",
      "source": [
        "#11 Write a Python program that uses a try-except block to handle an error when attempting to access a dictionary key that doesn't exist.\n",
        "try:\n",
        "    my_dict = {\"name\": \"Alice\"}\n",
        "    print(my_dict[\"age\"])\n",
        "except KeyError:\n",
        "    print(\"Key not found!\")\n"
      ],
      "metadata": {
        "colab": {
          "base_uri": "https://localhost:8080/"
        },
        "id": "qybOgQTj_6D4",
        "outputId": "34027974-e904-42a5-d25c-eefda34ae8c9"
      },
      "execution_count": 14,
      "outputs": [
        {
          "output_type": "stream",
          "name": "stdout",
          "text": [
            "Key not found!\n"
          ]
        }
      ]
    },
    {
      "cell_type": "code",
      "source": [
        "#12 Write a program that demonstrates using multiple except blocks to handle different types of exceptions.\n",
        "try:\n",
        "    x = 1 / 0\n",
        "except ZeroDivisionError:\n",
        "    print(\"Cannot divide by zero!\")\n",
        "except ValueError:\n",
        "    print(\"Value error occurred!\")\n"
      ],
      "metadata": {
        "colab": {
          "base_uri": "https://localhost:8080/"
        },
        "id": "xtvc_MhMAFJb",
        "outputId": "401cadd9-1603-4c8c-dd3a-77a3a85d6e78"
      },
      "execution_count": 15,
      "outputs": [
        {
          "output_type": "stream",
          "name": "stdout",
          "text": [
            "Cannot divide by zero!\n"
          ]
        }
      ]
    },
    {
      "cell_type": "code",
      "source": [
        "#13 How would you check if a file exists before attempting to read it in Python?\n",
        "import os\n",
        "\n",
        "if os.path.exists(\"example.txt\"):\n",
        "    with open(\"example.txt\", \"r\") as file:\n",
        "        print(file.read())\n",
        "else:\n",
        "    print(\"File does not exist!\")\n"
      ],
      "metadata": {
        "colab": {
          "base_uri": "https://localhost:8080/"
        },
        "id": "wqMnHhguALFR",
        "outputId": "77e83a1d-5a0a-409f-e0c6-2b061fb0915d"
      },
      "execution_count": 16,
      "outputs": [
        {
          "output_type": "stream",
          "name": "stdout",
          "text": [
            "Hello, World!\n",
            "Appended line\n"
          ]
        }
      ]
    },
    {
      "cell_type": "code",
      "source": [
        "#14 Write a program that uses the logging module to log both informational and error messages.\n",
        "import logging\n",
        "\n",
        "logging.basicConfig(filename=\"app.log\", level=logging.DEBUG)\n",
        "\n",
        "logging.info(\"This is an informational message.\")\n",
        "logging.error(\"This is an error message.\")\n"
      ],
      "metadata": {
        "colab": {
          "base_uri": "https://localhost:8080/"
        },
        "id": "2UsdZ91LASN-",
        "outputId": "08be8c23-7428-4cdd-9e09-36c1031796fc"
      },
      "execution_count": 17,
      "outputs": [
        {
          "output_type": "stream",
          "name": "stderr",
          "text": [
            "ERROR:root:This is an error message.\n"
          ]
        }
      ]
    },
    {
      "cell_type": "code",
      "source": [
        "#15 Write a Python program that prints the content of a file and handles the case when the file is empty.\n",
        "if os.path.getsize(\"example.txt\") == 0:\n",
        "    print(\"File is empty!\")\n",
        "else:\n",
        "    with open(\"example.txt\", \"r\") as file:\n",
        "        print(file.read())\n"
      ],
      "metadata": {
        "colab": {
          "base_uri": "https://localhost:8080/"
        },
        "id": "ZA5rsHNuAX_1",
        "outputId": "3f5b7da5-6f8c-4ae4-c1e8-b6c6ddf1ccd9"
      },
      "execution_count": 18,
      "outputs": [
        {
          "output_type": "stream",
          "name": "stdout",
          "text": [
            "Hello, World!\n",
            "Appended line\n"
          ]
        }
      ]
    },
    {
      "cell_type": "code",
      "source": [
        "#16 Demonstrate how to use memory profiling to check the memory usage of a small program.\n",
        "import tracemalloc\n",
        "\n",
        "def memory_test():\n",
        "    tracemalloc.start()  # Start memory tracking\n",
        "\n",
        "    data = [i for i in range(100000)]  # Simulating memory usage\n",
        "    current, peak = tracemalloc.get_traced_memory()  # Get memory usage details\n",
        "\n",
        "    tracemalloc.stop()  # Stop memory tracking\n",
        "\n",
        "    print(f\"Current memory usage: {current / 1024:.2f} KB\")\n",
        "    print(f\"Peak memory usage: {peak / 1024:.2f} KB\")\n",
        "\n",
        "memory_test()\n",
        "\n"
      ],
      "metadata": {
        "colab": {
          "base_uri": "https://localhost:8080/"
        },
        "id": "cm56lgQaAhP1",
        "outputId": "18b65915-d62a-4006-8c56-11856890e114"
      },
      "execution_count": 22,
      "outputs": [
        {
          "output_type": "stream",
          "name": "stdout",
          "text": [
            "Current memory usage: 3900.21 KB\n",
            "Peak memory usage: 3900.58 KB\n"
          ]
        }
      ]
    },
    {
      "cell_type": "code",
      "source": [
        "#17 Write a Python program to create and write a list of numbers to a file, one number per line.\n",
        "with open(\"numbers.txt\", \"w\") as file:\n",
        "    for i in range(10):\n",
        "        file.write(f\"{i}\\n\")\n"
      ],
      "metadata": {
        "id": "PGQLBU7hBaHx"
      },
      "execution_count": 23,
      "outputs": []
    },
    {
      "cell_type": "code",
      "source": [
        "#18 How would you implement a basic logging setup that logs to a file with rotation after 1MB?\n",
        "import logging\n",
        "from logging.handlers import RotatingFileHandler\n",
        "\n",
        "handler = RotatingFileHandler(\"app.log\", maxBytes=1024 * 1024, backupCount=5)\n",
        "logging.basicConfig(handlers=[handler], level=logging.DEBUG)\n",
        "\n",
        "logging.info(\"Logging with rotation!\")\n",
        "\n"
      ],
      "metadata": {
        "id": "36iplazWBgmG"
      },
      "execution_count": 25,
      "outputs": []
    },
    {
      "cell_type": "code",
      "source": [
        "#19 Write a program that handles both IndexError and KeyError using a try-except block.\n",
        "try:\n",
        "    my_list = [1, 2, 3]\n",
        "    print(my_list[5])\n",
        "except IndexError:\n",
        "    print(\"Index out of range!\")\n",
        "\n",
        "try:\n",
        "    my_dict = {\"a\": 1}\n",
        "    print(my_dict[\"b\"])\n",
        "except KeyError:\n",
        "    print(\"Key not found!\")\n"
      ],
      "metadata": {
        "colab": {
          "base_uri": "https://localhost:8080/"
        },
        "id": "ai7QMNqMBrF1",
        "outputId": "d5a7156d-0d15-4902-93e8-33f0e7345f0d"
      },
      "execution_count": 26,
      "outputs": [
        {
          "output_type": "stream",
          "name": "stdout",
          "text": [
            "Index out of range!\n",
            "Key not found!\n"
          ]
        }
      ]
    },
    {
      "cell_type": "code",
      "source": [
        "#20 How would you open a file and read its contents using a context manager in Python?\n",
        "with open(\"example.txt\", \"r\") as file:\n",
        "    content = file.read()\n",
        "print(content)\n"
      ],
      "metadata": {
        "colab": {
          "base_uri": "https://localhost:8080/"
        },
        "id": "GJyp3qmxBudM",
        "outputId": "952e7607-1990-4b01-8fe3-be5834f8661e"
      },
      "execution_count": 27,
      "outputs": [
        {
          "output_type": "stream",
          "name": "stdout",
          "text": [
            "Hello, World!\n",
            "Appended line\n"
          ]
        }
      ]
    },
    {
      "cell_type": "code",
      "source": [
        "#21 Write a Python program that reads a file and prints the number of occurrences of a specific word.\n",
        "word = \"example\"\n",
        "count = 0\n",
        "\n",
        "with open(\"example.txt\", \"r\") as file:\n",
        "    for line in file:\n",
        "        count += line.lower().split().count(word)\n",
        "\n",
        "print(f\"Occurrences of '{word}': {count}\")\n"
      ],
      "metadata": {
        "colab": {
          "base_uri": "https://localhost:8080/"
        },
        "id": "99KEG--ZBzgw",
        "outputId": "586e4119-1bcf-46c7-83e6-e1ef0020c29a"
      },
      "execution_count": 28,
      "outputs": [
        {
          "output_type": "stream",
          "name": "stdout",
          "text": [
            "Occurrences of 'example': 0\n"
          ]
        }
      ]
    },
    {
      "cell_type": "code",
      "source": [
        "#22 How can you check if a file is empty before attempting to read its contents?\n",
        "if os.path.exists(\"example.txt\") and os.path.getsize(\"example.txt\") > 0:\n",
        "    print(\"File is not empty!\")\n",
        "else:\n",
        "    print(\"File is empty!\")\n"
      ],
      "metadata": {
        "colab": {
          "base_uri": "https://localhost:8080/"
        },
        "id": "OiMsDnCHB4Ge",
        "outputId": "bec472d5-4b9f-4f4e-d5cb-086181632127"
      },
      "execution_count": 29,
      "outputs": [
        {
          "output_type": "stream",
          "name": "stdout",
          "text": [
            "File is not empty!\n"
          ]
        }
      ]
    },
    {
      "cell_type": "code",
      "source": [
        "#23  Write a Python program that writes to a log file when an error occurs during file handling.\n",
        "import logging\n",
        "\n",
        "logging.basicConfig(filename=\"file_errors.log\", level=logging.ERROR)\n",
        "\n",
        "try:\n",
        "    with open(\"nonexistent.txt\", \"r\") as file:\n",
        "        print(file.read())\n",
        "except FileNotFoundError as e:\n",
        "    logging.error(f\"File handling error: {e}\")\n"
      ],
      "metadata": {
        "colab": {
          "base_uri": "https://localhost:8080/"
        },
        "id": "yKR61eX1CCU1",
        "outputId": "06c7abf5-c04d-4036-9798-3b98c9a588b0"
      },
      "execution_count": 30,
      "outputs": [
        {
          "output_type": "stream",
          "name": "stderr",
          "text": [
            "ERROR:root:File handling error: [Errno 2] No such file or directory: 'nonexistent.txt'\n"
          ]
        }
      ]
    }
  ]
}